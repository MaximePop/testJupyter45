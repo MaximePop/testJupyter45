{
 "cells": [
  {
   "cell_type": "markdown",
   "id": "66103bf4-a9ef-4f5a-840c-5613ad441acb",
   "metadata": {},
   "source": [
    "# <span style=\"font-size:18pt;\"><mark style=\"background-color: white;\">Un panorama des pratiques informatiques dans les publications de recherche dans la base de données HAL.</mark></span>\n",
    "\n",
    "Un exemple des bonnes pratiques à mettre en place pour constituer un Notebook.\n",
    "\n",
    "Par POPINEAU Maxime (rapport réalisé en stage de Master 2 coencadré par Marie-Laure Massot, Emilien Schultz et Agnès Tricoche, dans le cadre de l'initiative Digit_Hum, d'avril-juillet 2023)."
   ]
  },
  {
   "cell_type": "markdown",
   "id": "0c83109e-44de-4c55-a2ab-0d0fd8c34b30",
   "metadata": {},
   "source": [
    "\n",
    "## <span style=\"font-size: 14pt\"> Information sur les données.</span>\n",
    "\n",
    "Les données utilisées dans ce notebook proviennent du site HAL (https://hal.science/). L’archive ouverte pluridisciplinaire HAL est destinée au dépôt et à la diffusion en libre accès des travaux scientifiques des chercheurs, émanant des établissements d'enseignement et de recherche français ou étrangers, des laboratoires publics ou privés. Son interface en ligne permet de partager librement les savoirs. Il est également possible d’interagir avec la base de données de HAL via une API*, et notamment de l’interroger pour y effectuer des recherches selon divers critères puis de récupérer les résultats dans différents formats de données structurées.\n",
    "\n",
    "Une API (Interface de programmation d'application) fournit des \"endpoints\" permettant d'interagir avec leur site web afin de récupérer des informations grâce à des recherches. Les APIs facilitent la communication entre plusieurs applications informatiques : cela sert à ce que les applications puissent échanger des informations entre-elles. Cela permet aux développeurs de créer des applications utilisant plusieurs APIS en même temps.\n",
    "\n",
    "L'utilisation d'une API nécessite également une chaîne de requête (\"query string\" en anglais), qui est une partie à ajouter à droite ,pour l'API de HAL, de l'URL de base pour inclure des paramètres et des valeurs.\n",
    "\n",
    "Un exemple de chaîne de requête est : https://api.archives-ouvertes.fr/search/?q=%22jupyter%20notebook%22. Cette URL fonctionne directement dans notre navigateur web et renvoie les résultats de notre recherche.\n",
    "\n",
    "https://api.archives-ouvertes.fr/search est la première partie qui permet d'accéder au serveur des archives ouvertes. La deuxième partie, ?q=%22jupyter%20notebook%22, permet de spécifier notre requête, qui est \"jupyter notebook\".\n",
    "\n",
    "Certains caractères, tels que l'espace ou les guillemets doubles, doivent être encodés correctement pour être transmis via le protocole HTTP. Le %22 correspond à l'encodage ASCII du caractère double guillemet et le %20 correspond à l'encodage de l'espace. Cela permet à l'ordinateur d'effectuer la requête sur \"jupyter notebook\" et non  \"jupyter\" et \"notebook\" séparément.\n",
    "\n",
    "L'utilisation de cette API permet d'interroger les données en utilisant des paramètres, par exemple pour connaître le nombre d'articles publiés dans HAL en 2014.\n",
    "\n",
    "Dans ce notebook, nous allons voir comment utiliser l'API HAL ainsi que les bibliothèques pandas et matplotlib. "
   ]
  },
  {
   "cell_type": "markdown",
   "id": "5c92ee9e-46ea-4475-88f1-ad518e26c9a0",
   "metadata": {},
   "source": [
    "Pour les personnes qui ne connaissent pas Python.\n",
    "\n",
    "Un ipywidget est disponible à la fin du Notebook pour permettre à des non-programmeurs d'interagir avec l'API de HAL !"
   ]
  },
  {
   "cell_type": "markdown",
   "id": "3f28feab-54d8-4417-8ebd-381b0488f7ca",
   "metadata": {
    "jp-MarkdownHeadingCollapsed": true,
    "tags": []
   },
   "source": [
    "## <span style=\"font-size: 14pt\"> Compétences requises.</span>\n",
    "\n",
    "Ce Jupyter Notebook est à destination d'un public débutant. Il est préférable de connaître le langage informatique Python pour suivre le Notebook, mais cela n'est pas obligatoire.\n",
    "\n",
    "Le document permet d'acquérir des compétences variées comme :\n",
    "\n",
    "1. Savoir utiliser les différentes librairies comme pandas et matplotlib.\n",
    "2. Utiliser les fonctions en Python pour éviter la duplication du code.\n",
    "3. Savoir faire une requête via une API."
   ]
  },
  {
   "cell_type": "markdown",
   "id": "b59cb0e1-6e4d-4cbb-8fed-826fa958b7a9",
   "metadata": {},
   "source": [
    "## <span style=\"font-size: 14pt\"> Objectifs de ce Jupyter Notebook.</span>\n",
    "\n",
    "Ce Jupyter Notebook vise à  :\n",
    "\n",
    "1. Faire un panorama des pratiques numériques des chercheurs.\n",
    "2. Fournir un exemple de Jupyter Notebook reproductible et de qualité. \n",
    "3. Enseigner des compétences aux utilisateurs débutants ou expérimentés avec Python."
   ]
  },
  {
   "cell_type": "markdown",
   "id": "1b6b7886-1071-4c7f-8b0d-f469bab9030e",
   "metadata": {
    "tags": []
   },
   "source": [
    "## Section 0 : Importation des librairies.\n",
    "\n",
    "Dans cette section, nous allons importer les librairies nécessaires à notre analyse.\n",
    "\n",
    "\n",
    "La librairie requests et json permetttent de faire les requêtes via l'API de HAL.\n",
    "\n",
    "Pandas est utilisé pour faire de l'analyse de données. La librairie fournit des fonctions pour créer, manipuler et analyser des DataFrames (les tableaux).\n",
    "\n",
    "Matplotlib permet de faire des graphiques et de visualiser les données."
   ]
  },
  {
   "cell_type": "code",
   "execution_count": 1,
   "id": "697b9fbb-0dfb-4e50-bfae-858c3d49a22f",
   "metadata": {},
   "outputs": [],
   "source": [
    "import requests, json\n",
    "import pandas as pd\n",
    "import matplotlib.pyplot as plt"
   ]
  },
  {
   "cell_type": "markdown",
   "id": "6bd40303-6c83-42e5-854d-8f0be99aa680",
   "metadata": {},
   "source": [
    "## Section 1 : Analyse du nombre de publications citant Python et les Jupyter Notebooks."
   ]
  },
  {
   "cell_type": "markdown",
   "id": "237d88ad-4269-4f76-b188-34fb528ca9aa",
   "metadata": {},
   "source": [
    "Nous pouvons faire une analyse statistique du nombre de publications dans la base de données HAL mentionnant Python et les Jupyter Notebooks."
   ]
  },
  {
   "cell_type": "markdown",
   "id": "6da9edf4-ba44-4631-b793-05c0cd73fca1",
   "metadata": {},
   "source": [
    "## <span style=\"font-size: 12pt\">1.0 : Utilisation d'une fonction qui retourne le nombre d'articles par année en fonction d'une recherche.</span>\n",
    "\n",
    "Les fonctions permettent de rendre le code plus lisible et d'éviter de le dupliquer. Elles font parties des bonnes pratiques à adopter dans un notebook."
   ]
  },
  {
   "cell_type": "markdown",
   "id": "9885ad96-3cce-4a2d-abd1-0d48f840f69d",
   "metadata": {},
   "source": [
    "Pour faire une requête via l'API, il est nécessaire de lire la documentation du site HAL disponible à cette adresse : https://api.archives-ouvertes.fr/docs/search\n"
   ]
  },
  {
   "cell_type": "code",
   "execution_count": 2,
   "id": "eddbb371-ac45-4591-9966-7f691ded5327",
   "metadata": {},
   "outputs": [],
   "source": [
    "def get_publication_counts(query):\n",
    "    # Effectue une requête pour obtenir le nombre total de publications\n",
    "    req = requests.get(f\"https://api.archives-ouvertes.fr/search/?q=text_fulltext:({query})&rows=0&facet=true&facet.field=publicationDateY_i\")\n",
    "    req_json = req.json()\n",
    "    nb = req_json[\"response\"][\"numFound\"]\n",
    "    print(f\"Le nombre total de résultats est de : {nb}\\n\")\n",
    "\n",
    "    # Effectue une requête pour obtenir le nombre de publications par année\n",
    "    year_counts = []\n",
    "    for year in range(1995, 2023):\n",
    "        req = requests.get(f\"https://api.archives-ouvertes.fr/search/?q=text_fulltext:({query}) AND publicationDateY_i:{year}&rows=0\")\n",
    "        req_json = req.json()\n",
    "        year_count = req_json[\"response\"][\"numFound\"]\n",
    "        year_counts.append((year, year_count))\n",
    "\n",
    "    # Transforme la liste de tuples en un DataFrame pandas et le renvoie\n",
    "    df = pd.DataFrame(year_counts, columns=[\"Année\", \"Nombre de publications\"])\n",
    "    return df"
   ]
  },
  {
   "cell_type": "markdown",
   "id": "8197672c-eb6f-4f57-8a09-6db0ff482f33",
   "metadata": {},
   "source": [
    "Nous allons ensuite appelé cette fonction et imprimer le Dataframe créé grâce à la librairie Pandas."
   ]
  },
  {
   "cell_type": "code",
   "execution_count": 3,
   "id": "4ed5b820-2c56-4a3c-bf4b-49ab497d69da",
   "metadata": {},
   "outputs": [
    {
     "name": "stdout",
     "output_type": "stream",
     "text": [
      "Le nombre total de résultats est de : 31628\n",
      "\n",
      "    Année  Nombre de publications\n",
      "0    1995                       2\n",
      "1    1996                       1\n",
      "2    1997                       3\n",
      "3    1998                       4\n",
      "4    1999                       7\n",
      "5    2000                       9\n",
      "6    2001                      10\n",
      "7    2002                      14\n",
      "8    2003                      32\n",
      "9    2004                      32\n",
      "10   2005                      68\n",
      "11   2006                     114\n",
      "12   2007                     108\n",
      "13   2008                     162\n",
      "14   2009                     226\n",
      "15   2010                     329\n",
      "16   2011                     445\n",
      "17   2012                     566\n",
      "18   2013                     663\n",
      "19   2014                     877\n",
      "20   2015                    1049\n",
      "21   2016                    1392\n",
      "22   2017                    1941\n",
      "23   2018                    2637\n",
      "24   2019                    3695\n",
      "25   2020                    4343\n",
      "26   2021                    5256\n",
      "27   2022                    5466\n"
     ]
    }
   ],
   "source": [
    "df = get_publication_counts(\"python\")\n",
    "print(df)"
   ]
  },
  {
   "cell_type": "markdown",
   "id": "9e18c57d-79c4-4aac-95b6-17e36ce5051c",
   "metadata": {},
   "source": [
    "Le dataframe montre une augmentation importante des articles concernant Python dans la base de donnée HAL. Le nombre d'articles sur Python passe de 10 en 2001 à 444 en 2011 puis 5143 en 2021 soit une multiplication par 500 en l'espace d'une vingtaine d'années. Il est important de noter que l'année 2022 est la première année de baisse du nombre d'articles concernant Python par rapport à l'année précédente depuis 1996."
   ]
  },
  {
   "cell_type": "markdown",
   "id": "2bf778ba-4b90-4b42-b204-422eee59eb2b",
   "metadata": {},
   "source": [
    "## <span style=\"font-size: 12pt\">1.1 : Faire un graphique avec la librairie Matplotlib pour voir le nombre de publications sur Python en fonction des années.</span>"
   ]
  },
  {
   "cell_type": "markdown",
   "id": "e6387388-95ac-4e7a-ae85-e4cbae57e35d",
   "metadata": {},
   "source": [
    "Nous allons passer maintenant à la représentation graphique avec la librairie Matplotlib.\n"
   ]
  },
  {
   "cell_type": "code",
   "execution_count": 4,
   "id": "bc27ef87-b97a-4c5b-b067-7ea1f39a82c6",
   "metadata": {},
   "outputs": [
    {
     "name": "stdout",
     "output_type": "stream",
     "text": [
      "Le nombre d'articles contenant le mot clé 'python' est de : 31628\n",
      "\n"
     ]
    },
    {
     "data": {
      "image/png": "[encoded data removed]",
      "text/plain": [
       "<Figure size 640x480 with 1 Axes>"
      ]
     },
     "metadata": {},
     "output_type": "display_data"
    }
   ],
   "source": [
    "# Effectue une requête pour obtenir le nombre d'articles avec le mot-clé \"Python\"\n",
    "query = \"python\"\n",
    "req = requests.get(f\"https://api.archives-ouvertes.fr/search/?q=text_fulltext:({query})&rows=0&facet=true&facet.field=producedDateY_i\")\n",
    "req_json = req.json()\n",
    "nb = req_json[\"response\"][\"numFound\"]\n",
    "print(f\"Le nombre d'articles contenant le mot clé '{query}' est de : {nb}\\n\")\n",
    "\n",
    "# Effectue une requête pour obtenir le nombre d'articles avec le mot-clé \"Python\" par année\n",
    "year_counts = req_json[\"facet_counts\"][\"facet_fields\"][\"producedDateY_i\"]\n",
    "year_counts = [year_counts[i:i+2] for i in range(0, len(year_counts), 2) if int(year_counts[i]) >= 1995]\n",
    "years = [int(year) for year, count in year_counts]\n",
    "counts = [count for year, count in year_counts]\n",
    "\n",
    "# Création du graphique\n",
    "plt.bar(years, counts)\n",
    "plt.title(\"Nombre de résultats concernant Python dans la base de HAL par année (après 1995)\")\n",
    "plt.xlabel(\"Year\")\n",
    "plt.ylabel(\"Number of publications\")\n",
    "plt.show()"
   ]
  },
  {
   "cell_type": "markdown",
   "id": "6210bcf5-f5dc-40f5-83ef-9f4434fcc781",
   "metadata": {},
   "source": [
    "Matplotlib nous permet de visualiser l'augmentation du nombre des articles sur Python ces 25 dernières années dans HAL. Nous constatons que l'année 2023 marquera peut être une baisse du nombre d'articles publiés sur Python car cinq mois se sont déjà écoulés et il y a à peine 1000 articles dans la base de données.\n"
   ]
  },
  {
   "cell_type": "markdown",
   "id": "e49dc79b-6f80-4be6-9022-72d3d7bb5995",
   "metadata": {},
   "source": [
    "### <span style=\"font-size: 12pt\"> 1.2 : Obtenir les résultats pour les Jupyter Notebooks.</span>"
   ]
  },
  {
   "cell_type": "markdown",
   "id": "d220aec9-0e1a-4c8c-82aa-93c0fd9cd505",
   "metadata": {},
   "source": [
    "Nous appelons la même fonction que dans le 1.0"
   ]
  },
  {
   "cell_type": "code",
   "execution_count": 5,
   "id": "ac172faa-5f98-45f3-a6f5-748ee89a2b96",
   "metadata": {},
   "outputs": [
    {
     "name": "stdout",
     "output_type": "stream",
     "text": [
      "Le nombre total de résultats est de : 941\n",
      "\n",
      "    Année  Nombre de publications\n",
      "0    1995                       0\n",
      "1    1996                       0\n",
      "2    1997                       0\n",
      "3    1998                       0\n",
      "4    1999                       0\n",
      "5    2000                       0\n",
      "6    2001                       0\n",
      "7    2002                       0\n",
      "8    2003                       0\n",
      "9    2004                       0\n",
      "10   2005                       0\n",
      "11   2006                       0\n",
      "12   2007                       0\n",
      "13   2008                       0\n",
      "14   2009                       0\n",
      "15   2010                       0\n",
      "16   2011                       0\n",
      "17   2012                       0\n",
      "18   2013                       0\n",
      "19   2014                       0\n",
      "20   2015                       1\n",
      "21   2016                      12\n",
      "22   2017                      24\n",
      "23   2018                      70\n",
      "24   2019                     113\n",
      "25   2020                     145\n",
      "26   2021                     217\n",
      "27   2022                     241\n"
     ]
    }
   ],
   "source": [
    "df = get_publication_counts(\"jupyter AND (notebook OR notebooks)\")\n",
    "print(df)"
   ]
  },
  {
   "cell_type": "markdown",
   "id": "0a32e892-2b5a-4123-a0f6-d32f4479a650",
   "metadata": {},
   "source": [
    "Le Dataframe montre une augmentation importante des articles mentionnant les Jupyter Notebooks (avec et sans \"s\") dans la base de donnée HAL. Ils passent en effet de 12 en 2016 à 70 (multiplé par 5) en 2018 puis à 223 en 2022. Ainsi, le nombre de publications déposées dans HAL citant les Jupyter Notebooks a été multiplé à peu près par 19 entre 2016 et 2022."
   ]
  },
  {
   "cell_type": "markdown",
   "id": "7d5b20d5-d460-488b-b53d-1aed7e8606d7",
   "metadata": {},
   "source": [
    "Il est néanmoins important de comparer cette hausse d'intérêt pour Python et pour les Jupyter Notebooks à la hausse du nombre d'articles dans HAL. En effet, cette hausse du nombre d'articles pourrait ne pas être la conséquence d'une hausse d'intérêt mais d'une simple hausse dans le nombre d'articles déposés dans l'archive ouverte."
   ]
  },
  {
   "cell_type": "markdown",
   "id": "283dabcc-f7ac-4088-8aed-fbda4124be20",
   "metadata": {},
   "source": [
    "## <span style=\"font-size: 12pt\"> 1.3 : Calculer le pourcentage d'articles mentionnant Python et les Jupyter Notebooks par rapport au nombre total d'articles publiés dans HAL au cours du temps.</span>"
   ]
  },
  {
   "cell_type": "markdown",
   "id": "0f6e7a0d-29ec-4a84-910e-69f72572e8f2",
   "metadata": {},
   "source": [
    "Nous utilisons l'API de HAL et la librairie pandas pour créer un tableau."
   ]
  },
  {
   "cell_type": "code",
   "execution_count": 19,
   "id": "1e06648a-9d28-4c94-870f-60c189d0aefc",
   "metadata": {},
   "outputs": [
    {
     "name": "stdout",
     "output_type": "stream",
     "text": [
      "    year  total_articles  python_articles  jupyter_articles  percent_python  \\\n",
      "0   1995           22668                2                 0        0.008823   \n",
      "1   1996           24244                1                 0        0.004125   \n",
      "2   1997           26058                4                 0        0.015350   \n",
      "3   1998           27812                4                 0        0.014382   \n",
      "4   1999           28755                6                 0        0.020866   \n",
      "5   2000           33482                9                 0        0.026880   \n",
      "6   2001           35390               10                 0        0.028257   \n",
      "7   2002           42692               14                 0        0.032793   \n",
      "8   2003           52076               31                 0        0.059528   \n",
      "9   2004           63392               34                 0        0.053635   \n",
      "10  2005           84070               67                 0        0.079695   \n",
      "11  2006          100321              114                 0        0.113635   \n",
      "12  2007          110547              109                 0        0.098601   \n",
      "13  2008          116074              161                 0        0.138705   \n",
      "14  2009          125852              229                 0        0.181960   \n",
      "15  2010          137836              333                 0        0.241591   \n",
      "16  2011          143651              448                 0        0.311867   \n",
      "17  2012          150155              564                 0        0.375612   \n",
      "18  2013          159180              665                 0        0.417766   \n",
      "19  2014          165598              874                 0        0.527784   \n",
      "20  2015          176448             1056                 1        0.598477   \n",
      "21  2016          188060             1396                13        0.742316   \n",
      "22  2017          196716             1952                23        0.992293   \n",
      "23  2018          200532             2628                69        1.310514   \n",
      "24  2019          202557             3716               114        1.834545   \n",
      "25  2020          174941             4305               145        2.460830   \n",
      "26  2021          185493             5271               216        2.841617   \n",
      "27  2022          165158             5457               239        3.304109   \n",
      "\n",
      "    percent_jupyter  \n",
      "0          0.000000  \n",
      "1          0.000000  \n",
      "2          0.000000  \n",
      "3          0.000000  \n",
      "4          0.000000  \n",
      "5          0.000000  \n",
      "6          0.000000  \n",
      "7          0.000000  \n",
      "8          0.000000  \n",
      "9          0.000000  \n",
      "10         0.000000  \n",
      "11         0.000000  \n",
      "12         0.000000  \n",
      "13         0.000000  \n",
      "14         0.000000  \n",
      "15         0.000000  \n",
      "16         0.000000  \n",
      "17         0.000000  \n",
      "18         0.000000  \n",
      "19         0.000000  \n",
      "20         0.000567  \n",
      "21         0.006913  \n",
      "22         0.011692  \n",
      "23         0.034408  \n",
      "24         0.056280  \n",
      "25         0.082885  \n",
      "26         0.116446  \n",
      "27         0.144710  \n"
     ]
    }
   ],
   "source": [
    "# Récupère le nombre total d'articles pour chaque année\n",
    "total_counts = []\n",
    "for year in range(1995, 2023):\n",
    "    req = requests.get(f\"https://api.archives-ouvertes.fr/search/?q=*&fq=producedDateY_i:{year}&rows=0\")\n",
    "    req_json = req.json()\n",
    "    year_count = req_json[\"response\"][\"numFound\"]\n",
    "    total_counts.append((year, year_count))\n",
    "total_df = pd.DataFrame(total_counts, columns=[\"year\", \"total_articles\"])\n",
    "\n",
    "# Récupère le nombre d'articles concernant Python pour chaque année\n",
    "python_counts = []\n",
    "for year in range(1995, 2023):\n",
    "    req = requests.get(f\"https://api.archives-ouvertes.fr/search/?q=text_fulltext:(Python)&fq=producedDateY_i:{year}&rows=0\")\n",
    "    req_json = req.json()\n",
    "    year_count = req_json.get(\"response\", {}).get(\"numFound\", 0)\n",
    "    python_counts.append((year, year_count))\n",
    "python_df = pd.DataFrame(python_counts, columns=[\"year\", \"python_articles\"])\n",
    "\n",
    "# le nombre d'articles concernant les Jupyter Notebooks pour chaque année\n",
    "jupyter_counts = []\n",
    "for year in range(1995, 2023):\n",
    "    req = requests.get(f\"https://api.archives-ouvertes.fr/search/?q=text_fulltext:(jupyter AND (notebook OR notebooks))&fq=producedDateY_i:{year}&rows=0\")\n",
    "    req_json = req.json()\n",
    "    year_count = req_json.get(\"response\", {}).get(\"numFound\", 0)\n",
    "    jupyter_counts.append((year, year_count))\n",
    "jupyter_df = pd.DataFrame(jupyter_counts, columns=[\"year\", \"jupyter_articles\"])\n",
    "\n",
    "# Fusionne les trois dataframes\n",
    "merged_df = pd.merge(total_df, python_df, on=\"year\")\n",
    "merged_df = pd.merge(merged_df, jupyter_df, on=\"year\")\n",
    "\n",
    "# Calcul le pourcentage des articles concernant Python et les JupyterNotebooks pour chaque année.\n",
    "merged_df[\"percent_python\"] = merged_df[\"python_articles\"] / merged_df[\"total_articles\"] * 100\n",
    "merged_df[\"percent_jupyter\"] = merged_df[\"jupyter_articles\"] / merged_df[\"total_articles\"] * 100\n",
    "\n",
    "# Visualise le tableau\n",
    "print(merged_df)"
   ]
  },
  {
   "cell_type": "markdown",
   "id": "5d096e3a-47f8-48c7-b957-d257a1d0e7db",
   "metadata": {},
   "source": [
    "Le tableau montre que le pourcentage des documents mentionnant Python et les Jupyter Notebooks augmente au fil des années dans le total de documents publiés dans HAL. L'intérêt pour ce langage de programmation et ce type de carnets interactifs semble donc augmenter sensiblement dans le cadre de la recherche.\n",
    "\n",
    "En effet, si en 2002, les documents relatifs à Python ne représentaient que 0,03% du total des documents présents dans HAL, ce chiffre est passé à 0,37% en 2012 et a atteint 3,31% en 2022. Notons aussi, que le projet Jupyter a été lancé en 2014 et que les premiers résultats apparaissent en 2015 avec un document traitant des Jupyter Notebooks. En 2019, le pourcentage des documents relatifs aux Jupyter Notebooks représentaient 0,05% du nombre total de documents présents dans HAL. Ce chiffre est de 0,14% en 2022. Bien que l'intérêt pour Python et les Jupyter Notebooks soit en hausse, le nombre d'articles les concernant reste relativement faible par rapport au nombre d'articles total dans la base de données de HAL."
   ]
  },
  {
   "cell_type": "markdown",
   "id": "beebf154-6f3a-4bbd-935c-f2ae0647579f",
   "metadata": {},
   "source": [
    "## Section 2 : Travail d'analyse sur la recherche \"Python\" et \"Jupyter Notebook\".\n",
    "\n",
    "Cette section permet d'apprendre à faire une requête multicritères dans l'API de HAL pour obtenir un type particulier de documents (articles, communicatoin ou autres) au sein d'une recherche précise (dans notre exemple, la recherche des mots clés \"Python\" ou \"Jupyter Notebook(s)).\n",
    "\n",
    "Nous verrons aussi comment récupérer dans l'API de HAL le domaine de recherche pour identifier les disciplines qui intègrent le plus les Jupyter Notebooks dans leur pratique de recherche ou d'enseignement. Notre hypothèse étant bien sûr que ces outils sont plus présents en informatique et dans les disciplines scientifiques qu'en sciences humaines et sociales. Cela nous permettra d'affiner l'analyse des résulats obtenus dans les sections précédentes."
   ]
  },
  {
   "cell_type": "markdown",
   "id": "c09fc3dc-6e3c-438f-96df-01890c7de2e1",
   "metadata": {
    "tags": []
   },
   "source": [
    "## <span style=\"font-size: 12pt\"> 2.0 : Obtenir le type de document en fonction d'une recherche.</span>"
   ]
  },
  {
   "cell_type": "code",
   "execution_count": 7,
   "id": "ab0fc7b1-3a79-46ba-9877-7dcacd84ce58",
   "metadata": {},
   "outputs": [],
   "source": [
    "def get_doc_types(query):\n",
    "    req = requests.get(f\"https://api.archives-ouvertes.fr/search/?q={query}&rows=0&facet=true&facet.field=docType_s\")\n",
    "    req_json = req.json()\n",
    "    doc_types = req_json[\"facet_counts\"][\"facet_fields\"][\"docType_s\"]\n",
    "    doc_types = [doc_types[i:i+2] for i in range(0, len(doc_types), 2)]\n",
    "    total_docs = req_json[\"response\"][\"numFound\"]\n",
    "    doc_types_dict = {doc_type: count/total_docs*100 for doc_type, count in doc_types}\n",
    "    return doc_types_dict"
   ]
  },
  {
   "cell_type": "markdown",
   "id": "f23700fb-27e7-46ec-8581-9352cbb81e0d",
   "metadata": {},
   "source": [
    "Nous rédigeons une fonction que nous invoquerons dans la suite de notre code comme dans la Section 1."
   ]
  },
  {
   "cell_type": "code",
   "execution_count": 8,
   "id": "1df107f7-a086-481d-a0fe-2638b7768e33",
   "metadata": {},
   "outputs": [
    {
     "name": "stdout",
     "output_type": "stream",
     "text": [
      "{'ART': 47.35344336937962, 'COMM': 25.760450262442298, 'THESE': 11.806741288813003, 'UNDEFINED': 5.305761082653513, 'REPORT': 2.589641434262948, 'MEM': 2.181749193701385, 'COUV': 1.4450135964080186, 'POSTER': 0.84108012394865, 'HDR': 0.6829823562891292, 'OTHER': 0.5375324100423702, 'OUV': 0.40473028520837284, 'LECTURE': 0.344653133497755, 'PROCEEDINGS': 0.24030860684247138, 'SOFTWARE': 0.18655536583823437, 'BLOG': 0.10750648200847406, 'PRESCONF': 0.08537279453614115, 'ISSUE': 0.03161955353190413, 'VIDEO': 0.02213368747233289, 'OTHERREPORT': 0.015809776765952063, 'REPORT_FORM': 0.012647821412761651, 'REPORT_LICE': 0.012647821412761651, 'REPORT_LABO': 0.00948586605957124, 'ETABTHESE': 0.003161955353190413, 'MAP': 0.003161955353190413, 'MEMLIC': 0.003161955353190413, 'REPORT_LPRO': 0.003161955353190413, 'REPORT_MAST': 0.003161955353190413, 'SYNTHESE': 0.003161955353190413, 'TRAD': 0.003161955353190413, 'CREPORT': 0.0, 'DOUV': 0.0, 'IMG': 0.0, 'MANUAL': 0.0, 'NOTE': 0.0, 'NOTICE': 0.0, 'PATENT': 0.0, 'REPACT': 0.0, 'REPORT_COOR': 0.0, 'REPORT_DOCT': 0.0, 'REPORT_ETAB': 0.0, 'REPORT_FPROJ': 0.0, 'REPORT_GLICE': 0.0, 'REPORT_GMAST': 0.0, 'REPORT_RETABINT': 0.0, 'REPORT_RFOINT': 0.0, 'SON': 0.0}\n"
     ]
    }
   ],
   "source": [
    "doc_types = get_doc_types(\"text_fulltext:(python)\")\n",
    "print(doc_types)"
   ]
  },
  {
   "cell_type": "markdown",
   "id": "d6b3b3fc-17ae-42eb-85af-fc60deb199fb",
   "metadata": {},
   "source": [
    "Nous contastons que parmi les documents liés à Python dans la base de données HAL, les articles scientifiques représentent 47%, suivis des communications à 25%, et des thèses à 11%. En revanche, les cours ne représentent qu'une faible proportion de 0,32%."
   ]
  },
  {
   "cell_type": "code",
   "execution_count": 9,
   "id": "d3c690ca-86e7-49aa-bc43-48d05c1fcb13",
   "metadata": {},
   "outputs": [
    {
     "name": "stdout",
     "output_type": "stream",
     "text": [
      "{'ART': 38.70967741935484, 'COMM': 32.25806451612903, 'BLOG': 6.451612903225806, 'LECTURE': 6.451612903225806, 'UNDEFINED': 5.376344086021505, 'REPORT': 3.225806451612903, 'OUV': 2.1505376344086025, 'SOFTWARE': 2.1505376344086025, 'POSTER': 1.0752688172043012, 'THESE': 1.0752688172043012, 'VIDEO': 1.0752688172043012, 'COUV': 0.0, 'CREPORT': 0.0, 'DOUV': 0.0, 'ETABTHESE': 0.0, 'HDR': 0.0, 'IMG': 0.0, 'ISSUE': 0.0, 'MANUAL': 0.0, 'MAP': 0.0, 'MEM': 0.0, 'MEMLIC': 0.0, 'NOTE': 0.0, 'NOTICE': 0.0, 'OTHER': 0.0, 'OTHERREPORT': 0.0, 'PATENT': 0.0, 'PRESCONF': 0.0, 'PROCEEDINGS': 0.0, 'REPACT': 0.0, 'REPORT_COOR': 0.0, 'REPORT_DOCT': 0.0, 'REPORT_ETAB': 0.0, 'REPORT_FORM': 0.0, 'REPORT_FPROJ': 0.0, 'REPORT_GLICE': 0.0, 'REPORT_GMAST': 0.0, 'REPORT_LABO': 0.0, 'REPORT_LICE': 0.0, 'REPORT_LPRO': 0.0, 'REPORT_MAST': 0.0, 'REPORT_RETABINT': 0.0, 'REPORT_RFOINT': 0.0, 'SON': 0.0, 'SYNTHESE': 0.0, 'TRAD': 0.0}\n"
     ]
    }
   ],
   "source": [
    "doc_types = get_doc_types(\"jupyter AND (notebook OR notebooks)\")\n",
    "print(doc_types)"
   ]
  },
  {
   "cell_type": "markdown",
   "id": "52a7d308-5b4c-433a-bbfb-ba7e61dfadd6",
   "metadata": {},
   "source": [
    "Le constat est le même pour les Jupyter Notebooks : les documents sont à 39% des articles scientifiques, les communications 32% et des blogs à 6,52%. Les cours représentent seulement 6%."
   ]
  },
  {
   "cell_type": "markdown",
   "id": "c9726618-d48c-42a4-bd4c-358b4bb99c6b",
   "metadata": {},
   "source": [
    "Nous pouvons nous demander aussi dans quelle discipline les Jupyter Notebooks sont utilisés. Notre hypothèse est que ce format est plus utilisé en informatique et dans les disciplines scientifiques comme en physique par exemple."
   ]
  },
  {
   "cell_type": "markdown",
   "id": "7c935c5e-d733-48c3-87a5-d1b57e05f4c4",
   "metadata": {
    "tags": []
   },
   "source": [
    "## <span style=\"font-size: 12pt\"> 2.1 : De quel domaine de recherche relèvent les Jupyter Notebooks? </span>"
   ]
  },
  {
   "cell_type": "markdown",
   "id": "73db9e10-517e-4bc7-8048-b2164ec7b4b1",
   "metadata": {},
   "source": [
    "Nous allons à présent nous intéresser aux disciplines qui mentionnent les Jupyter Notebooks."
   ]
  },
  {
   "cell_type": "code",
   "execution_count": 10,
   "id": "1f7a85a8-0e76-4f6b-8914-de66254af588",
   "metadata": {},
   "outputs": [
    {
     "name": "stdout",
     "output_type": "stream",
     "text": [
      "   Domaine  Pourcentage\n",
      "0   0.info    18.470301\n",
      "1    0.sdv     6.997559\n",
      "2   0.phys     4.393816\n",
      "3    0.sdu     4.149715\n",
      "4    0.shs     3.905614\n",
      "5   0.math     2.929211\n",
      "6    0.spi     2.929211\n",
      "7    0.sde     1.830757\n",
      "8   0.stat     1.545972\n",
      "9   0.scco     1.179821\n",
      "10  0.chim     1.098454\n"
     ]
    }
   ],
   "source": [
    "# Faire la requête pour obtenir le nombre de documents contenant \"jupyter\" et \"notebook(s)\"\n",
    "req = requests.get(\"https://api.archives-ouvertes.fr/search/?q=text_fulltext:(jupyter AND (notebook OR notebooks))&rows=0&facet=true&facet.field=domain_s\")\n",
    "\n",
    "# Obtenir les données de la requête au format JSON\n",
    "req_json = req.json()\n",
    "\n",
    "# Extraire le nombre de publications par domaine\n",
    "domain_counts = req_json[\"facet_counts\"][\"facet_fields\"][\"domain_s\"]\n",
    "domain_counts = [(domain_counts[i], domain_counts[i+1]) for i in range(0, len(domain_counts), 2)]\n",
    "\n",
    "# Séparer les domaines multiples et leur nombre de documents en entrées individuelles\n",
    "domain_counts_split = []\n",
    "for domain_count in domain_counts:\n",
    "    domains = domain_count[0].split(';')\n",
    "    for domain in domains:\n",
    "        domain_counts_split.append((domain.strip(), domain_count[1]))  # Garder le domaine complet\n",
    "\n",
    "# Calculer le nombre total de documents\n",
    "total = sum([count for _, count in domain_counts_split])\n",
    "\n",
    "# Calculer le pourcentage de documents par domaine\n",
    "domain_percents = [(domain[0], domain[1]/total*100) for domain in domain_counts_split]\n",
    "\n",
    "# Filtrer les domaines ayant un seul mot et un pourcentage supérieur à 0,5% et supprimer les domaines spécifiques\n",
    "domain_percents_filtered = [(domain, percent) for domain, percent in domain_percents if percent > 0.5 and len(domain.split()) == 1\n",
    "                            and not any(domain_specific in domain for domain_specific in [\"1.info.info-ai\", \"1.info.info-bi\", \"1.phys.astr\", \"info.info-lg\", \"sdv.neu\", \"sdu.ocean\", \"math.math-st\"])]\n",
    "\n",
    "# Supprimer les domaines qui commencent par \"1\"\n",
    "domain_percents_filtered = [(domain, percent) for domain, percent in domain_percents_filtered if not domain.startswith(\"1\")]\n",
    "\n",
    "# Créer un dataframe à partir des pourcentages filtrés et trier par ordre décroissant\n",
    "df = pd.DataFrame(domain_percents_filtered, columns=[\"Domaine\", \"Pourcentage\"])\n",
    "df = df.sort_values(by=[\"Pourcentage\"], ascending=False)\n",
    "\n",
    "# Afficher le dataframe\n",
    "print(df)"
   ]
  },
  {
   "cell_type": "markdown",
   "id": "254e8d2a-a128-432a-8cba-b44b8be9b508",
   "metadata": {},
   "source": [
    "Les résultats obtenus confirment notre hypothèse. Les Jupyter Notebooks commencent à être utilisés dans les disciplines SHS, mais très peu : 3,8%. L'évolution de l'utilisation des Notebooks est plus marquée en informatique : (17%) en Sciences de la Vie (7%) ou bien en physique (4,4%).\n",
    "\n",
    "En effet, il y a encore peu de Notebooks en SHS que cela soit en Histoire ou en Géographie (sans parler de l'archéologie, de la la littérature ou de la philosophie). Une explication pourrait être que la pratique des Notebooks en SHS est nouvelle et aussi que les sciences sociales ont moins besoin d'utiliser des langages de programmation dans leur pratique quotidienne. \n",
    "\n",
    "Enfin, le manque de ressources pour se former et cas d'études sur l'utilisation des Jupyter Notebooks dans le cadre des SHS semblent un frein à l'appropriation de cet outil par les praticiens SHS."
   ]
  },
  {
   "cell_type": "markdown",
   "id": "eacdf6fb-0258-4d0a-8bcd-0a39942011d0",
   "metadata": {},
   "source": [
    "## Section 3 : Travail général sur les pratiques numériques des chercheurs.\n",
    "\n",
    "Nous allons voir dans cette partie quels sont les logiciels et les différents langages informatiques (autre que Python) que les chercheurs utilisent le plus dans la base de HAL."
   ]
  },
  {
   "cell_type": "markdown",
   "id": "8f3018ec-52c7-4aeb-b535-a6c67764640f",
   "metadata": {},
   "source": [
    "## <span style=\"font-size: 12pt\"> 3.0 : Les autres pratiques numériques des chercheurs.</span>"
   ]
  },
  {
   "cell_type": "code",
   "execution_count": 11,
   "id": "7e4842cc-1c8d-4bd5-ab7b-dcf3525ef902",
   "metadata": {},
   "outputs": [
    {
     "name": "stdout",
     "output_type": "stream",
     "text": [
      "                                Nombre de documents\n",
      "SAS                                           11004\n",
      "Matlab                                         2924\n",
      "HTML                                           2769\n",
      "Python                                         2722\n",
      "Rust                                           1146\n",
      "TEI                                             880\n",
      "Perl                                            858\n",
      "Excel                                           696\n",
      "Fortran                                         551\n",
      "Stata                                           439\n",
      "Javascript                                      437\n",
      "Spss                                            369\n",
      "pascal langage informatique                     222\n",
      "Bash                                             48\n",
      "Rstudio                                          47\n",
      "Libreoffice                                      12\n",
      "langage de programmation Julia                    8\n"
     ]
    }
   ],
   "source": [
    "# Liste des termes de recherche\n",
    "terms = [\"langage de programmation Julia\", \"Rstudio\", \"Python\", \"pascal langage informatique\", \"Matlab\", \"Javascript\", \"Spss\", \"Stata\", \"Fortran\", \"Javascript\", \"Bash\", \"Rust\", \"SAS\", \"Excel\", \"Libreoffice\", \"Perl\", \"HTML\", \"TEI\"]\n",
    "\n",
    "# Dictionnaire pour stocker les résultats\n",
    "results = {}\n",
    "\n",
    "# Pour chaque terme de recherche, faire une requête et extraire le nombre total de résultats\n",
    "for term in terms:\n",
    "    req = requests.get(f\"https://api.archives-ouvertes.fr/search/?q={term}&rows=0\")\n",
    "    req_json = req.json()\n",
    "    total = req_json[\"response\"][\"numFound\"]\n",
    "    results[term] = total\n",
    "\n",
    "# Afficher les résultats sous forme de tableau\n",
    "import pandas as pd\n",
    "\n",
    "df = pd.DataFrame.from_dict(results, orient=\"index\", columns=[\"Nombre de documents\"])\n",
    "df = df.sort_values(by=[\"Nombre de documents\"], ascending=False)\n",
    "\n",
    "print(df)"
   ]
  },
  {
   "cell_type": "markdown",
   "id": "23725088-0084-4a26-bcae-29f0b8f96ea1",
   "metadata": {},
   "source": [
    "Il est intéressant de voir les autres pratiques numériques des chercheurs pour comparer avec les Jupyter Notebooks. Nous avons vu dans la section 2 qu'il y avait 885 résultats pour les Jupter Notebooks. Il est intéressant de voir qu'il y a plus de publications sur HAL concernant les Jupyter Notebooks que sur TEI (869) , Excel (678) ou Javascript (436) par exemple.\n",
    "\n",
    "Les résultats deviennent extrêmement intéressant une fois que l'on connaît l'histoire des Notebooks.\n",
    "\n",
    "En effet, l’idée de document entremêlant narration et code pour s’adresser simultanément aux êtres humains et à l’ordinateur n'est pas nouvelle puisqu'elle a été explorée dès la fin des années 1970. Dans son ouvrage The TeXBook, publié en 1984, Donald Knuth propose une solution : la programmation lettrée. Le principe est de traiter le code comme un texte qui doit être compréhensible pour les lecteurs. \n",
    "\n",
    "La programmation lettrée prend la forme d’un texte en prose au sein duquel s’imbriquent des macros (une forme de code abrégé). La programmation lettrée a inspiré le calcul lettré qui est au cœur des carnets numériques.\n",
    "\n",
    "Jupyter s’est imposé comme solution principale de carnet numérique, sans être non plus exclusive (RStudio…). \n",
    "\n",
    "Les Notebooks ne remplacent néanmoins pas la programmation lettrée ainsi que les logiciels cités précédemment et ceux dans le tableau. Le logiciel Matlab et le consortium de la TEI (qui est une forme de programmation lettrée) sont en effet encore très utilisés aujourd’hui comme on peut le voir dans le tableau mais il est remarquable de constater que les Jupyter Notebooks suscitent un intérêt croissant et sont l'objet de nombreuses publications.\n"
   ]
  },
  {
   "cell_type": "markdown",
   "id": "be534a0f-e253-46ac-9145-ad6ed1879458",
   "metadata": {},
   "source": [
    "## <span style=\"font-size: 12pt\"> 3.1 : Les principaux types de documents.</span>"
   ]
  },
  {
   "cell_type": "markdown",
   "id": "2afd5e72-e4d5-4664-a6eb-c8dfdf6827d2",
   "metadata": {},
   "source": [
    "Il est important de voir les autres pratiques numériques des chercheurs anglais ou français et de comparer le type de document produit dans la plateforme HAL."
   ]
  },
  {
   "cell_type": "code",
   "execution_count": 12,
   "id": "fb2d8d8c-57be-459a-bed6-62e3df028bb8",
   "metadata": {},
   "outputs": [
    {
     "name": "stdout",
     "output_type": "stream",
     "text": [
      "          langage de programmation Julia    Rstudio     Python  \\\n",
      "COMM                                62.5  34.042553  24.944893   \n",
      "THESE                               25.0              6.392359   \n",
      "LECTURE                             12.5                         \n",
      "ART                                       23.404255  47.501837   \n",
      "REPORT                                     8.510638              \n",
      "COUV                                                             \n",
      "POSTER                                                           \n",
      "MEM                                                              \n",
      "BLOG                                                             \n",
      "UNDEFINED                                                        \n",
      "OTHER                                                            \n",
      "\n",
      "          pascal langage informatique     Matlab Javascript       Spss  \\\n",
      "COMM                        41.891892  41.860465  54.919908  17.344173   \n",
      "THESE                       12.612613  14.056088   7.093822  11.924119   \n",
      "LECTURE                                                                  \n",
      "ART                         22.072072  31.874145   16.24714  54.200542   \n",
      "REPORT                                                                   \n",
      "COUV                                                                     \n",
      "POSTER                                                                   \n",
      "MEM                                                                      \n",
      "BLOG                                                                     \n",
      "UNDEFINED                                                                \n",
      "OTHER                                                                    \n",
      "\n",
      "               Stata    Fortran       Bash       Rust        SAS      Excel  \\\n",
      "COMM                  22.141561  20.833333  21.204188  27.753544  20.258621   \n",
      "THESE      12.072893                         5.235602                         \n",
      "LECTURE                                                                       \n",
      "ART        40.091116  38.838475  39.583333  63.787086  54.980007  32.902299   \n",
      "REPORT                15.426497                                               \n",
      "COUV       11.617312             10.416667                                    \n",
      "POSTER                                                  4.661941              \n",
      "MEM                                                                23.41954   \n",
      "BLOG                                                                          \n",
      "UNDEFINED                                                                     \n",
      "OTHER                                                                         \n",
      "\n",
      "          Libreoffice       Perl       HTML        TEI  \n",
      "COMM        41.666667  20.862471  26.182737  47.613636  \n",
      "THESE                                                   \n",
      "LECTURE                                                 \n",
      "ART                    71.911422  47.273384  20.454545  \n",
      "REPORT      16.666667                                   \n",
      "COUV                                          5.568182  \n",
      "POSTER                                                  \n",
      "MEM                                                     \n",
      "BLOG             25.0                                   \n",
      "UNDEFINED               1.631702                        \n",
      "OTHER                              4.839292             \n"
     ]
    }
   ],
   "source": [
    "# Liste des termes de recherche\n",
    "terms = [\"langage de programmation Julia\", \"Rstudio\", \"Python\", \"pascal langage informatique\", \"Matlab\", \"Javascript\", \"Spss\", \"Stata\", \"Fortran\", \"Javascript\", \"Bash\", \"Rust\", \"SAS\", \"Excel\", \"Libreoffice\", \"Perl\", \"HTML\", \"TEI\"]\n",
    "\n",
    "# Dictionnaire pour stocker les résultats\n",
    "results = {}\n",
    "\n",
    "# Pour chaque terme de recherche, faire une requête et extraire les pourcentages de chaque type de document\n",
    "for term in terms:\n",
    "    doc_types_dict = get_doc_types(term)\n",
    "    results[term] = doc_types_dict\n",
    "\n",
    "# Afficher les résultats sous forme de tableau\n",
    "df_list = []\n",
    "for term, doc_types_dict in results.items():\n",
    "    df = pd.DataFrame.from_dict(doc_types_dict, orient=\"index\", columns=[term])\n",
    "    df = df.loc[df[term] > 0].sort_values(by=[term], ascending=False).head(3)\n",
    "    df.dropna(axis=1, inplace=True)\n",
    "    df_list.append(df)\n",
    "\n",
    "df_final = pd.concat(df_list, axis=1)\n",
    "df_final.fillna(\"\", inplace=True)\n",
    "df_final.dropna(axis=0, how='all', inplace=True)\n",
    "print(df_final)"
   ]
  },
  {
   "cell_type": "markdown",
   "id": "d2b951f3-e580-494b-a662-0f7d245c3260",
   "metadata": {},
   "source": [
    "D'après les résultats obtenus, il apparaît que les types de documents les plus fréquemment associés à nos termes de recherche sont très majoritairement soit des articles scientifiques ou des communications ce qui est le même résultat que pour \"Python\" et les \"Jupyter Notebooks\" obtenu dans la section 2.0"
   ]
  },
  {
   "cell_type": "markdown",
   "id": "fc2833aa-b947-4e16-ac77-8eea51e28d88",
   "metadata": {},
   "source": [
    "Nous avons vu comment mettre des paramètres avec le \"query string\" mais il y a une autre manière de faire.\n",
    "\n",
    "Nous pouvons construire un dictionnaire et ensuite passer le dictionnaire en tant qu'argument à la fonction requests.get. Lorsque la requête est effectuée, la bibliothèque requests construit automatiquement l'URL avec les paramètres spécifiés dans le dictionnaire.\n",
    "\n",
    "Cela permet de spécifier les paramètres de manière plus structurée et flexible, en utilisant une syntaxe de dictionnaire."
   ]
  },
  {
   "cell_type": "code",
   "execution_count": 13,
   "id": "6289c56f-7fd4-48d5-829a-0742685a75d9",
   "metadata": {},
   "outputs": [
    {
     "name": "stdout",
     "output_type": "stream",
     "text": [
      "                 Nombre de documents  Pourcentage\n",
      "ART                          1656013    47.903833\n",
      "COMM                          818047    23.663816\n",
      "COUV                          296743     8.583947\n",
      "THESE                         146697     4.243535\n",
      "OUV                           100604     2.910193\n",
      "UNDEFINED                      68924     1.993779\n",
      "MEM                            62080     1.795801\n",
      "OTHER                          61105     1.767597\n",
      "REPORT                         60943     1.762911\n",
      "IMG                            58267     1.685502\n",
      "POSTER                         50942     1.473610\n",
      "ISSUE                          10547     0.305095\n",
      "NOTICE                          8882     0.256931\n",
      "PROCEEDINGS                     8454     0.244551\n",
      "HDR                             6983     0.201999\n",
      "BLOG                            6462     0.186928\n",
      "PATENT                          6201     0.179378\n",
      "REPORT_LABO                     5205     0.150566\n",
      "VIDEO                           4111     0.118920\n",
      "REPORT_MAST                     3413     0.098729\n",
      "LECTURE                         3143     0.090918\n",
      "REPORT_LPRO                     2747     0.079463\n",
      "REPORT_LICE                     2701     0.078132\n",
      "TRAD                            1952     0.056466\n",
      "SOFTWARE                         939     0.027163\n",
      "PRESCONF                         835     0.024154\n",
      "CREPORT                          809     0.023402\n",
      "REPORT_DOCT                      581     0.016807\n",
      "REPORT_ETAB                      491     0.014203\n",
      "MAP                              427     0.012352\n",
      "SON                              341     0.009864\n",
      "REPORT_FORM                      270     0.007810\n",
      "REPORT_GMAST                     222     0.006422\n",
      "OTHERREPORT                      166     0.004802\n",
      "NOTE                             145     0.004194\n",
      "SYNTHESE                         124     0.003587\n",
      "REPORT_FPROJ                     115     0.003327\n",
      "REPORT_GLICE                      91     0.002632\n",
      "REPACT                            70     0.002025\n",
      "ETABTHESE                         64     0.001851\n",
      "MEMLIC                            41     0.001186\n",
      "REPORT_RFOINT                     24     0.000694\n",
      "REPORT_COOR                       20     0.000579\n",
      "REPORT_RETABINT                   11     0.000318\n",
      "MANUAL                             1     0.000029\n",
      "DOUV                               0     0.000000\n"
     ]
    }
   ],
   "source": [
    "# Effectuer une requête pour obtenir les types de document pour tous les documents dans HAL\n",
    "params = {\n",
    "    \"q\": \"*:*\",\n",
    "    \"rows\": 0,\n",
    "    \"fl\": \"docType_s\",\n",
    "    \"facet\": \"true\",\n",
    "    \"facet.field\": \"docType_s\"\n",
    "}\n",
    "req = requests.get(\"https://api.archives-ouvertes.fr/search/\", params=params)\n",
    "req_json = req.json()\n",
    "\n",
    "# Extraire les types de document et leurs nombres de la réponse JSON\n",
    "doc_types = req_json[\"facet_counts\"][\"facet_fields\"][\"docType_s\"]\n",
    "doc_types_dict = {doc_type: count for doc_type, count in zip(doc_types[::2], doc_types[1::2])}\n",
    "\n",
    "# Créer un DataFrame à partir des types de document\n",
    "df = pd.DataFrame.from_dict(doc_types_dict, orient=\"index\", columns=[\"Nombre de documents\"])\n",
    "df = df.sort_values(by=[\"Nombre de documents\"], ascending=False)\n",
    "\n",
    "# Calculer les pourcentages de chaque type de document par rapport au total\n",
    "total_documents = df[\"Nombre de documents\"].sum()\n",
    "df[\"Pourcentage\"] = df[\"Nombre de documents\"] / total_documents * 100\n",
    "\n",
    "# Afficher le DataFrame\n",
    "print(df)"
   ]
  },
  {
   "cell_type": "markdown",
   "id": "ee5d1acc-74a5-4076-b67d-50406e20aefc",
   "metadata": {},
   "source": [
    "En analysant le nombre total de documents dans la base de HAL, on constate que les deux types de documents les plus fréquents sont des articles scientifiques et des communications. \n",
    "Nous pouvons comparer cela aux résultats obtenus pour \"Python\" et les \"Jupyter Notebooks\" dans la section 2.\n",
    "\n",
    "Pour Python, les articles (47%) et les communications (25%) représentent 72% des documents présents. \n",
    "Pour les Jupyter Notebooks, les articles (39%) et les communications (32%) représentent 71% des documents présents.\n",
    "\n",
    "Les résultats sont donc similaires pour l'ensemble des documents, les articles scientifiques (47%) et les communications (23%) représentent aussi la majorité des documents dans la base HAL avec environ 70% des documents présents."
   ]
  },
  {
   "cell_type": "markdown",
   "id": "ee93dcb8-47e7-4959-85e3-67e636d1ba47",
   "metadata": {},
   "source": [
    "Pour finir notre Notebook interactif, voici l'ipywidget comme promis en introduction pour les utilisateurs non programmeurs mais intéréssés pour interagir avec le document !"
   ]
  },
  {
   "cell_type": "markdown",
   "id": "8ae0876a-4a12-4fd1-9247-cd17049df3f1",
   "metadata": {},
   "source": [
    "Les IpyWidgets permettent à des utilisateurs qui ne savent pas coder d'utiliser l'API des HAL avec des paramètres comme le type de documents ou les années."
   ]
  },
  {
   "cell_type": "code",
   "execution_count": 14,
   "id": "892a7d22-a42b-4c31-a9ca-6ff1221b0263",
   "metadata": {},
   "outputs": [],
   "source": [
    "from IPython.display import display, Markdown, HTML\n",
    "import requests\n",
    "import ipywidgets as widgets\n",
    "import matplotlib.pyplot as plt\n",
    "import pandas as pd\n",
    "import json"
   ]
  },
  {
   "cell_type": "code",
   "execution_count": 15,
   "id": "5292cb0d-dd11-4a38-b970-29af3f66f360",
   "metadata": {},
   "outputs": [],
   "source": [
    "def make_hal_request(query, year, doc_type):\n",
    "    url = f\"https://api.archives-ouvertes.fr/search/?q={query}&fq=docType_s:{doc_type}&fq=producedDateY_i:{year}&wt=json\"\n",
    "    response = requests.get(url)\n",
    "    try:\n",
    "        data = response.json()\n",
    "        return data\n",
    "    except json.JSONDecodeError:\n",
    "        return None"
   ]
  },
  {
   "cell_type": "code",
   "execution_count": 16,
   "id": "5002c11b-3bcc-48d8-a63e-62a738c2f9f2",
   "metadata": {},
   "outputs": [],
   "source": [
    "doc_types = ['ART', 'COMM', 'OUV', 'THESE']\n",
    "query_widget = widgets.Textarea(value='', placeholder='Saisissez votre requête ici', description='Requête:')\n",
    "year_widget = widgets.Dropdown(options=['Toutes les années'] + list(range(2010, 2023)), description='Année:')\n",
    "doc_type_widget = widgets.Dropdown(options=['Tous les types'] + doc_types, description='Type de document:')\n",
    "display_type_widget = widgets.RadioButtons(options=['Tableau', 'Graphique'], description='Affichage:')\n",
    "button = widgets.Button(description='Effectuer la requête')"
   ]
  },
  {
   "cell_type": "code",
   "execution_count": 17,
   "id": "df20b21b-d2b8-4767-a975-5ae35486213e",
   "metadata": {},
   "outputs": [],
   "source": [
    "def on_button_click(b):\n",
    "    query = query_widget.value.strip()\n",
    "    year = year_widget.value\n",
    "    doc_type = doc_type_widget.value\n",
    "\n",
    "    if not query:\n",
    "        display(Markdown('Veuillez saisir une requête valide.'))\n",
    "        return\n",
    "\n",
    "    if year == 'Toutes les années':\n",
    "        year = '*'\n",
    "\n",
    "    if doc_type == 'Tous les types':\n",
    "        doc_type = '*'\n",
    "\n",
    "\n",
    "    # data = make_hal_request(query, year, doc_type)\n",
    "\n",
    "    # if data is None:\n",
    "    #    return\n",
    "\n",
    "    # num_results = data['response']['numFound']\n",
    "    # display(Markdown(f\"Nombre total de documents : {num_results}\"))\n",
    "\n",
    "    if display_type_widget.value == 'Tableau':\n",
    "        if year == '*':\n",
    "            if doc_type == '*':\n",
    "                years = list(range(2010, 2023))\n",
    "                counts = []\n",
    "                for year in years:\n",
    "                    data = make_hal_request(query, year, doc_type)\n",
    "                    if data is not None:\n",
    "                        counts.append(data['response']['numFound'])\n",
    "                \n",
    "                df = pd.DataFrame({'Année': years, 'Nombre de documents': counts})\n",
    "                display(df)\n",
    "            else:\n",
    "                display(Markdown('Veuillez sélectionner \"Toutes les années\" pour afficher les résultats sous forme de tableau.'))\n",
    "        else:\n",
    "            display(Markdown('Veuillez sélectionner \"Toutes les années\" pour afficher les résultats sous forme de tableau.'))\n",
    "\n",
    "\n",
    "    elif display_type_widget.value == 'Graphique':\n",
    "        if year == '*':\n",
    "            if doc_type == '*':\n",
    "                years = list(range(2010, 2023))\n",
    "                counts = []\n",
    "                for year in years:\n",
    "                    data = make_hal_request(query, year, doc_type)\n",
    "                    if data is not None:\n",
    "                        counts.append(data['response']['numFound'])\n",
    "                \n",
    "                plt.figure(figsize=(10, 6))\n",
    "                plt.plot(years, counts, marker='o')\n",
    "                plt.xlabel('Année')\n",
    "                plt.ylabel(\"Nombre de documents\")\n",
    "                plt.title('Nombre de documents publiés par année')\n",
    "                plt.show()\n",
    "            else:\n",
    "                display(Markdown('Veuillez sélectionner \"Toutes les années\" pour afficher les résultats sous forme de graphique.'))\n",
    "        else:\n",
    "            display(Markdown('Veuillez sélectionner \"Toutes les années\" pour afficher les résultats sous forme de graphique.'))"
   ]
  },
  {
   "cell_type": "code",
   "execution_count": 18,
   "id": "a1c1acdd-f3f6-4aa3-8d42-c244c148718f",
   "metadata": {},
   "outputs": [
    {
     "data": {
      "application/vnd.jupyter.widget-view+json": {
       "model_id": "02eaec5d506a47b39e6b2025e2fa2940",
       "version_major": 2,
       "version_minor": 0
      },
      "text/plain": [
       "Textarea(value='', description='Requête:', placeholder='Saisissez votre requête ici')"
      ]
     },
     "metadata": {},
     "output_type": "display_data"
    },
    {
     "data": {
      "application/vnd.jupyter.widget-view+json": {
       "model_id": "153bbcbac6a54aa0ad9518bd473bf9cb",
       "version_major": 2,
       "version_minor": 0
      },
      "text/plain": [
       "Dropdown(description='Année:', options=('Toutes les années', 2010, 2011, 2012, 2013, 2014, 2015, 2016, 2017, 2…"
      ]
     },
     "metadata": {},
     "output_type": "display_data"
    },
    {
     "data": {
      "application/vnd.jupyter.widget-view+json": {
       "model_id": "04baef60120741c9ada574f4741ed777",
       "version_major": 2,
       "version_minor": 0
      },
      "text/plain": [
       "Dropdown(description='Type de document:', options=('Tous les types', 'ART', 'COMM', 'OUV', 'THESE'), value='To…"
      ]
     },
     "metadata": {},
     "output_type": "display_data"
    },
    {
     "data": {
      "application/vnd.jupyter.widget-view+json": {
       "model_id": "4e927512cf4841faa22f555aa0aa0f0e",
       "version_major": 2,
       "version_minor": 0
      },
      "text/plain": [
       "RadioButtons(description='Affichage:', options=('Tableau', 'Graphique'), value='Tableau')"
      ]
     },
     "metadata": {},
     "output_type": "display_data"
    },
    {
     "data": {
      "application/vnd.jupyter.widget-view+json": {
       "model_id": "b18ccb53554b4d7dbe06ebbfe2ce6e02",
       "version_major": 2,
       "version_minor": 0
      },
      "text/plain": [
       "Button(description='Effectuer la requête', style=ButtonStyle())"
      ]
     },
     "metadata": {},
     "output_type": "display_data"
    },
    {
     "data": {
      "text/html": [
       "<div>\n",
       "<style scoped>\n",
       "    .dataframe tbody tr th:only-of-type {\n",
       "        vertical-align: middle;\n",
       "    }\n",
       "\n",
       "    .dataframe tbody tr th {\n",
       "        vertical-align: top;\n",
       "    }\n",
       "\n",
       "    .dataframe thead th {\n",
       "        text-align: right;\n",
       "    }\n",
       "</style>\n",
       "<table border=\"1\" class=\"dataframe\">\n",
       "  <thead>\n",
       "    <tr style=\"text-align: right;\">\n",
       "      <th></th>\n",
       "      <th>Année</th>\n",
       "      <th>Nombre de documents</th>\n",
       "    </tr>\n",
       "  </thead>\n",
       "  <tbody>\n",
       "    <tr>\n",
       "      <th>0</th>\n",
       "      <td>2010</td>\n",
       "      <td>29571</td>\n",
       "    </tr>\n",
       "    <tr>\n",
       "      <th>1</th>\n",
       "      <td>2011</td>\n",
       "      <td>29562</td>\n",
       "    </tr>\n",
       "    <tr>\n",
       "      <th>2</th>\n",
       "      <td>2012</td>\n",
       "      <td>31821</td>\n",
       "    </tr>\n",
       "    <tr>\n",
       "      <th>3</th>\n",
       "      <td>2013</td>\n",
       "      <td>33801</td>\n",
       "    </tr>\n",
       "    <tr>\n",
       "      <th>4</th>\n",
       "      <td>2014</td>\n",
       "      <td>35204</td>\n",
       "    </tr>\n",
       "    <tr>\n",
       "      <th>5</th>\n",
       "      <td>2015</td>\n",
       "      <td>37715</td>\n",
       "    </tr>\n",
       "    <tr>\n",
       "      <th>6</th>\n",
       "      <td>2016</td>\n",
       "      <td>39646</td>\n",
       "    </tr>\n",
       "    <tr>\n",
       "      <th>7</th>\n",
       "      <td>2017</td>\n",
       "      <td>40393</td>\n",
       "    </tr>\n",
       "    <tr>\n",
       "      <th>8</th>\n",
       "      <td>2018</td>\n",
       "      <td>42042</td>\n",
       "    </tr>\n",
       "    <tr>\n",
       "      <th>9</th>\n",
       "      <td>2019</td>\n",
       "      <td>41099</td>\n",
       "    </tr>\n",
       "    <tr>\n",
       "      <th>10</th>\n",
       "      <td>2020</td>\n",
       "      <td>35648</td>\n",
       "    </tr>\n",
       "    <tr>\n",
       "      <th>11</th>\n",
       "      <td>2021</td>\n",
       "      <td>38083</td>\n",
       "    </tr>\n",
       "    <tr>\n",
       "      <th>12</th>\n",
       "      <td>2022</td>\n",
       "      <td>34390</td>\n",
       "    </tr>\n",
       "  </tbody>\n",
       "</table>\n",
       "</div>"
      ],
      "text/plain": [
       "    Année  Nombre de documents\n",
       "0    2010                29571\n",
       "1    2011                29562\n",
       "2    2012                31821\n",
       "3    2013                33801\n",
       "4    2014                35204\n",
       "5    2015                37715\n",
       "6    2016                39646\n",
       "7    2017                40393\n",
       "8    2018                42042\n",
       "9    2019                41099\n",
       "10   2020                35648\n",
       "11   2021                38083\n",
       "12   2022                34390"
      ]
     },
     "metadata": {},
     "output_type": "display_data"
    }
   ],
   "source": [
    "button.on_click(on_button_click)\n",
    "display(query_widget, year_widget, doc_type_widget, display_type_widget, button)"
   ]
  },
  {
   "cell_type": "markdown",
   "id": "49ca4570-a1aa-4eb4-a690-b34b8b45958c",
   "metadata": {},
   "source": [
    "Notre Jupyter Notebook est fini : en espérant qu'il vous a plu et qu'il était clair !\n",
    "\n",
    "Si vous avez des questions ou des retours, merci de m'écrire à mon adresse email universitaire : maxime.popineau@etu.univ-tours.fr."
   ]
  },
  {
   "cell_type": "code",
   "execution_count": null,
   "id": "c4f32bf1",
   "metadata": {},
   "outputs": [],
   "source": []
  }
 ],
 "metadata": {
  "kernelspec": {
   "display_name": "Python 3 (ipykernel)",
   "language": "python",
   "name": "python3"
  },
  "language_info": {
   "codemirror_mode": {
    "name": "ipython",
    "version": 3
   },
   "file_extension": ".py",
   "mimetype": "text/x-python",
   "name": "python",
   "nbconvert_exporter": "python",
   "pygments_lexer": "ipython3",
   "version": "3.11.4"
  },
  "toc-autonumbering": false,
  "toc-showmarkdowntxt": true,
  "toc-showtags": false
 },
 "nbformat": 4,
 "nbformat_minor": 5
}
